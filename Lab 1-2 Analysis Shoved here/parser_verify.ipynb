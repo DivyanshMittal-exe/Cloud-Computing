{
 "cells": [
  {
   "cell_type": "code",
   "execution_count": 1,
   "metadata": {},
   "outputs": [],
   "source": [
    "import pandas as pd\n",
    "\n",
    "\n",
    "        "
   ]
  },
  {
   "cell_type": "code",
   "execution_count": 2,
   "metadata": {},
   "outputs": [],
   "source": [
    "import re\n",
    "\n",
    "processed_lines = []\n",
    "all_lines = []\n",
    "with open('twcs.csv', 'r') as file:\n",
    "    \n",
    "\n",
    "    \n",
    "    data = file.read()\n",
    "    \n",
    "    parsed_data = re.findall(r'(?:,|\\n|^)(\"(?:(?:\"\")*[^\"]*)*\"|[^\",\\n]*|(?:\\n|$))', data)\n",
    "    \n",
    "data_lines = parsed_data[5:]\n",
    "data_lines = data_lines[6::7]\n",
    "# data_lines = [s[1:-1] if s.startswith('\"') and s.endswith('\"') else s for s in data_lines]\n",
    "\n",
    "        "
   ]
  },
  {
   "cell_type": "code",
   "execution_count": 51,
   "metadata": {},
   "outputs": [
    {
     "name": "stdout",
     "output_type": "stream",
     "text": [
      "['tweet_id', 'author_id', 'inbound', 'created_at', 'text', 'response_tweet_id', 'in_response_to_tweet_id', '1', 'sprintcare', 'False', 'Tue Oct 31 22:10:47 +0000 2017', '@115712 I understand. I would like to assist you. We would need to get you into a private secured link to further assist.', '2', '3', '2', '115712', 'True']\n"
     ]
    },
    {
     "data": {
      "text/plain": [
       "'@115712 I understand. I would like to assist you. We would need to get you into a private secured link to further assist.'"
      ]
     },
     "execution_count": 51,
     "metadata": {},
     "output_type": "execute_result"
    }
   ],
   "source": [
    "# of = 21\n",
    "\n",
    "# print(parsed_data[0:17])\n",
    "\n",
    "# only_text_data = parsed_data[5:]\n",
    "\n",
    "# only_text_data = only_text_data[6::7]\n",
    "\n",
    "# only_text_data[0]\n",
    "# parsed_data[7*(of):7*(of+1)]"
   ]
  },
  {
   "cell_type": "code",
   "execution_count": 3,
   "metadata": {},
   "outputs": [],
   "source": [
    "df = pd.read_csv('twcs.csv')"
   ]
  },
  {
   "cell_type": "code",
   "execution_count": 4,
   "metadata": {},
   "outputs": [
    {
     "name": "stdout",
     "output_type": "stream",
     "text": [
      "Row Number: 2485,\n",
      "Original Text: @AskPayPal \n",
      "\n",
      "I just love the start of email 😁 https://t.co/8u1Pf5rJoN, \n",
      "I just love the start of email 😁 https://t.co/8u1Pf5rJoN\n",
      "tweet_id                                                                3399\n",
      "author_id                                                             116510\n",
      "inbound                                                                 True\n",
      "created_at                                    Tue Oct 31 18:13:06 +0000 2017\n",
      "text                       @AskPayPal \\r\\rI just love the start of email ...\n",
      "response_tweet_id                                                       3398\n",
      "in_response_to_tweet_id                                                  NaN\n",
      "Name: 2484, dtype: object\n",
      "\n",
      "I just love the start of email 😁 https://t.co/8u1Pf5rJoN\n"
     ]
    }
   ],
   "source": [
    "\n",
    "allow = 0\n",
    "\n",
    "allow_max = 0\n",
    "\n",
    "for index, row in df.iterrows():\n",
    "    # print(row)\n",
    "    \n",
    "    text_to_comp = data_lines[index]\n",
    "    \n",
    "    text_to_comp = text_to_comp.replace('\"\"', '\"')\n",
    "    if text_to_comp.startswith('\"') and text_to_comp.endswith('\"'):\n",
    "        text_to_comp = text_to_comp[1:-1]\n",
    "    \n",
    "    if row['text'] != text_to_comp:\n",
    "        \n",
    "        # print(all_lines[index])\n",
    "        # break\n",
    "        if allow < allow_max:\n",
    "            allow += 1\n",
    "        else:\n",
    "            print(f\"\"\"Row Number: {index + 1},\n",
    "Original Text: {text_to_comp}, \n",
    "Data in DataFrame: {row['text']}\"\"\")\n",
    "            print(row)\n",
    "            print()\n",
    "            print(row['text'])\n",
    "            break"
   ]
  }
 ],
 "metadata": {
  "kernelspec": {
   "display_name": "Python 3",
   "language": "python",
   "name": "python3"
  },
  "language_info": {
   "codemirror_mode": {
    "name": "ipython",
    "version": 3
   },
   "file_extension": ".py",
   "mimetype": "text/x-python",
   "name": "python",
   "nbconvert_exporter": "python",
   "pygments_lexer": "ipython3",
   "version": "3.10.12"
  },
  "orig_nbformat": 4
 },
 "nbformat": 4,
 "nbformat_minor": 2
}
