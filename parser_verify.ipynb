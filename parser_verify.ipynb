{
 "cells": [
  {
   "cell_type": "code",
   "execution_count": 1,
   "metadata": {},
   "outputs": [],
   "source": [
    "import pandas as pd\n",
    "\n",
    "\n",
    "        "
   ]
  },
  {
   "cell_type": "code",
   "execution_count": 12,
   "metadata": {},
   "outputs": [],
   "source": [
    "import re\n",
    "\n",
    "processed_lines = []\n",
    "all_lines = []\n",
    "with open('twcs.csv', 'r') as file:\n",
    "    \n",
    "    # csv_content = file.read()\n",
    "    \n",
    "    # csv_content = re.sub(r'\"\\s*(.*?)(\\n|$)\\s*\"', lambda match: '\"' + match.group(1).replace('\\n', ' ') + '\"', csv_content)\n",
    "\n",
    "    # csv_content\n",
    "    \n",
    "    # lines = csv_content.split('\\n')\n",
    "    \n",
    "    data = file.read()\n",
    "    \n",
    "    parsed_data = re.findall(r'(?:,|\\n|^)(\"(?:(?:\"\")*[^\"]*)*\"|[^\",\\n]*|(?:\\n|$))', data)\n",
    "    \n",
    "    \n",
    "    \n",
    "    # for line in file:\n",
    "    #     all_lines.append(line)\n",
    "        \n",
    "    #     parsed_line = re.findall(r'\"(.*?)\"|([^,]+)', line)\n",
    "        \n",
    "    #     try:\n",
    "    #         processed_line = parsed_line[4][0] if parsed_line[4][0] else parsed_line[4][1] \n",
    "    #     except:\n",
    "    #         print(parsed_line)\n",
    "    #         break\n",
    "    #         # print(parsed_line)\n",
    "    #         # print(line)\n",
    "    #         # print(all_lines[-2])\n",
    "            \n",
    "    #         # parsed_line = re.findall(r'\"(.*?)\"|([^,]+)', all_lines[-2])\n",
    "    #         # print(parsed_line)\n",
    "    #         # break\n",
    "    #     # processed_line = [field[0] if field[0] else field[1] for field in parsed_line]\n",
    "        \n",
    "    #     # parts = line.strip().split(',')\n",
    "    #     # processed_line = ','.join(parts[4:-2]).strip(',')\n",
    "    #     # # print(processed_line)\n",
    "    #     # if processed_line and processed_line[0] == '\"' and processed_line[-1] == '\"':\n",
    "    #     #     processed_line = processed_line[1:-1]\n",
    "        \n",
    "    #     processed_lines.append(processed_line)\n",
    "\n",
    "# processed_lines = processed_lines[1:]\n",
    "# all_lines = all_lines[1:]"
   ]
  },
  {
   "cell_type": "code",
   "execution_count": 51,
   "metadata": {},
   "outputs": [
    {
     "name": "stdout",
     "output_type": "stream",
     "text": [
      "['tweet_id', 'author_id', 'inbound', 'created_at', 'text', 'response_tweet_id', 'in_response_to_tweet_id', '1', 'sprintcare', 'False', 'Tue Oct 31 22:10:47 +0000 2017', '@115712 I understand. I would like to assist you. We would need to get you into a private secured link to further assist.', '2', '3', '2', '115712', 'True']\n"
     ]
    },
    {
     "data": {
      "text/plain": [
       "'@115712 I understand. I would like to assist you. We would need to get you into a private secured link to further assist.'"
      ]
     },
     "execution_count": 51,
     "metadata": {},
     "output_type": "execute_result"
    }
   ],
   "source": [
    "of = 21\n",
    "\n",
    "print(parsed_data[0:17])\n",
    "\n",
    "only_text_data = parsed_data[5:]\n",
    "\n",
    "only_text_data = only_text_data[6::7]\n",
    "\n",
    "only_text_data[0]\n",
    "# parsed_data[7*(of):7*(of+1)]"
   ]
  },
  {
   "cell_type": "code",
   "execution_count": 3,
   "metadata": {},
   "outputs": [],
   "source": [
    "df = pd.read_csv('twcs.csv')"
   ]
  },
  {
   "cell_type": "code",
   "execution_count": 29,
   "metadata": {},
   "outputs": [
    {
     "name": "stdout",
     "output_type": "stream",
     "text": [
      "Row Number: 6,\n",
      "Original Text: \"@115712 Can you please send us a private message, so that I can gain further details about your account?\",\"5, \n",
      "Data in DataFrame: @115712 Can you please send us a private message, so that I can gain further details about your account?\n",
      "tweet_id                                                                   6\n",
      "author_id                                                         sprintcare\n",
      "inbound                                                                False\n",
      "created_at                                    Tue Oct 31 21:46:24 +0000 2017\n",
      "text                       @115712 Can you please send us a private messa...\n",
      "response_tweet_id                                                        5,7\n",
      "in_response_to_tweet_id                                                  8.0\n",
      "Name: 5, dtype: object\n",
      "6,sprintcare,False,Tue Oct 31 21:46:24 +0000 2017,\"@115712 Can you please send us a private message, so that I can gain further details about your account?\",\"5,7\",8\n",
      "\n"
     ]
    }
   ],
   "source": [
    "\n",
    "for index, row in df.iterrows():\n",
    "    # print(row)\n",
    "    if row['text'] != processed_lines[index]:\n",
    "        print(f\"\"\"Row Number: {index + 1},\n",
    "Original Text: {processed_lines[index]}, \n",
    "Data in DataFrame: {row['text']}\"\"\")\n",
    "        print(row)\n",
    "        print(all_lines[index])\n",
    "        break"
   ]
  }
 ],
 "metadata": {
  "kernelspec": {
   "display_name": "Python 3",
   "language": "python",
   "name": "python3"
  },
  "language_info": {
   "codemirror_mode": {
    "name": "ipython",
    "version": 3
   },
   "file_extension": ".py",
   "mimetype": "text/x-python",
   "name": "python",
   "nbconvert_exporter": "python",
   "pygments_lexer": "ipython3",
   "version": "3.10.12"
  },
  "orig_nbformat": 4
 },
 "nbformat": 4,
 "nbformat_minor": 2
}
